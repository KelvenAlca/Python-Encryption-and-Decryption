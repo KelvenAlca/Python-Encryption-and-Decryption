{
 "cells": [
  {
   "cell_type": "code",
   "execution_count": 17,
   "metadata": {},
   "outputs": [],
   "source": [
    "from cryptography.fernet import Fernet\n",
    "\n",
    "def generate_key():\n",
    "    return Fernet.generate_key()\n",
    "\n",
    "def encrypt(plaintext, key):\n",
    "    cipher_suite = Fernet(key)\n",
    "    ciphertext = cipher_suite.encrypt(plaintext.encode())\n",
    "    return ciphertext\n",
    "\n",
    "def decrypt(ciphertext, key):\n",
    "    cipher_suite = Fernet(key)\n",
    "    plaintext = cipher_suite.decrypt(ciphertext).decode()\n",
    "    return plaintext\n"
   ]
  },
  {
   "cell_type": "code",
   "execution_count": 25,
   "metadata": {},
   "outputs": [
    {
     "name": "stdout",
     "output_type": "stream",
     "text": [
      "Texto criptografado: b'gAAAAABli5pyxGkjppShc0zpSN8jnVo0EdMQicmqO5qqXaqI2A_62la-MwxvY9Y6oC3R8ZbmmkWytWod2bA5daNYUuqPCoUCWg=='\n",
      "Texto descriptografado: Hello, World!\n"
     ]
    }
   ],
   "source": [
    "# Exemplo de uso:\n",
    "password = \"sua_senha_secreta\"\n",
    "mensagem_original = \"Hello, World!\"\n",
    "\n",
    "# Gerar chave\n",
    "key = generate_key()\n",
    "\n",
    "# Criptografar\n",
    "ciphertext = encrypt(mensagem_original, key)\n",
    "print(\"Texto criptografado:\", ciphertext)\n",
    "\n",
    "# Descriptografar\n",
    "plaintext = decrypt(ciphertext, key)\n",
    "print(\"Texto descriptografado:\", plaintext)"
   ]
  }
 ],
 "metadata": {
  "kernelspec": {
   "display_name": "Python 3",
   "language": "python",
   "name": "python3"
  },
  "language_info": {
   "codemirror_mode": {
    "name": "ipython",
    "version": 3
   },
   "file_extension": ".py",
   "mimetype": "text/x-python",
   "name": "python",
   "nbconvert_exporter": "python",
   "pygments_lexer": "ipython3",
   "version": "3.12.1"
  }
 },
 "nbformat": 4,
 "nbformat_minor": 2
}
